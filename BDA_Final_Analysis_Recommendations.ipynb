{
  "cells": [
    {
      "cell_type": "code",
      "execution_count": null,
      "metadata": {
        "id": "t_D3n-0No_3E",
        "colab": {
          "base_uri": "https://localhost:8080/"
        },
        "outputId": "c91cea95-1d4b-4731-e9fd-83b084c18eff"
      },
      "outputs": [
        {
          "output_type": "stream",
          "name": "stdout",
          "text": [
            "Looking in indexes: https://pypi.org/simple, https://us-python.pkg.dev/colab-wheels/public/simple/\n",
            "Requirement already satisfied: pyspark in /usr/local/lib/python3.8/dist-packages (3.3.1)\n",
            "Requirement already satisfied: py4j==0.10.9.5 in /usr/local/lib/python3.8/dist-packages (from pyspark) (0.10.9.5)\n",
            "Looking in indexes: https://pypi.org/simple, https://us-python.pkg.dev/colab-wheels/public/simple/\n",
            "Requirement already satisfied: spotipy in /usr/local/lib/python3.8/dist-packages (2.22.1)\n",
            "Requirement already satisfied: six>=1.15.0 in /usr/local/lib/python3.8/dist-packages (from spotipy) (1.15.0)\n",
            "Requirement already satisfied: redis>=3.5.3 in /usr/local/lib/python3.8/dist-packages (from spotipy) (4.4.2)\n",
            "Requirement already satisfied: requests>=2.25.0 in /usr/local/lib/python3.8/dist-packages (from spotipy) (2.25.0)\n",
            "Requirement already satisfied: urllib3>=1.26.0 in /usr/local/lib/python3.8/dist-packages (from spotipy) (1.26.0)\n",
            "Requirement already satisfied: async-timeout>=4.0.2 in /usr/local/lib/python3.8/dist-packages (from redis>=3.5.3->spotipy) (4.0.2)\n",
            "Requirement already satisfied: certifi>=2017.4.17 in /usr/local/lib/python3.8/dist-packages (from requests>=2.25.0->spotipy) (2022.12.7)\n",
            "Requirement already satisfied: chardet<4,>=3.0.2 in /usr/local/lib/python3.8/dist-packages (from requests>=2.25.0->spotipy) (3.0.4)\n",
            "Requirement already satisfied: idna<3,>=2.5 in /usr/local/lib/python3.8/dist-packages (from requests>=2.25.0->spotipy) (2.10)\n",
            "Looking in indexes: https://pypi.org/simple, https://us-python.pkg.dev/colab-wheels/public/simple/\n",
            "Requirement already satisfied: urllib3==1.26 in /usr/local/lib/python3.8/dist-packages (1.26.0)\n",
            "Looking in indexes: https://pypi.org/simple, https://us-python.pkg.dev/colab-wheels/public/simple/\n",
            "Requirement already satisfied: requests==2.25 in /usr/local/lib/python3.8/dist-packages (2.25.0)\n",
            "Requirement already satisfied: chardet<4,>=3.0.2 in /usr/local/lib/python3.8/dist-packages (from requests==2.25) (3.0.4)\n",
            "Requirement already satisfied: idna<3,>=2.5 in /usr/local/lib/python3.8/dist-packages (from requests==2.25) (2.10)\n",
            "Requirement already satisfied: certifi>=2017.4.17 in /usr/local/lib/python3.8/dist-packages (from requests==2.25) (2022.12.7)\n",
            "Requirement already satisfied: urllib3<1.27,>=1.21.1 in /usr/local/lib/python3.8/dist-packages (from requests==2.25) (1.26.0)\n"
          ]
        }
      ],
      "source": [
        "!pip install pyspark\n",
        "!pip install spotipy\n",
        "!pip install urllib3==1.26\n",
        "!pip install requests==2.25"
      ]
    },
    {
      "cell_type": "code",
      "execution_count": null,
      "metadata": {
        "id": "DfyliI2go26Q"
      },
      "outputs": [],
      "source": [
        "import urllib3\n",
        "import requests\n",
        "import json\n",
        "import pyspark\n",
        "from pyspark.sql import SparkSession\n",
        "import matplotlib.pyplot as plt\n",
        "from google.colab import drive\n",
        "from oauth2client.client import GoogleCredentials\n",
        "import io\n",
        "import zipfile\n",
        "import glob\n",
        "import pprint as pp #Pretty printer\n",
        "from itertools import chain\n",
        "import spotipy\n",
        "from spotipy.oauth2 import SpotifyClientCredentials\n",
        "from tqdm import tqdm\n",
        "import os\n",
        "import pandas as pd\n",
        "import threading\n",
        "from concurrent.futures import ThreadPoolExecutor\n",
        "from pyspark.sql.functions import explode, mean, desc,col\n",
        "from pyspark.sql.types import StructType\n",
        "import shutil"
      ]
    },
    {
      "cell_type": "code",
      "execution_count": null,
      "metadata": {
        "colab": {
          "base_uri": "https://localhost:8080/"
        },
        "id": "Cq5bymcgohV7",
        "outputId": "9844b2fa-82be-41c9-ae1e-cf4b403005ff"
      },
      "outputs": [
        {
          "output_type": "stream",
          "name": "stdout",
          "text": [
            "Drive already mounted at /content/gdrive; to attempt to forcibly remount, call drive.mount(\"/content/gdrive\", force_remount=True).\n"
          ]
        }
      ],
      "source": [
        "drive.mount('/content/gdrive')"
      ]
    },
    {
      "cell_type": "markdown",
      "metadata": {
        "id": "hcUVG_Udq31M"
      },
      "source": [
        "#Putting Data in Drive"
      ]
    },
    {
      "cell_type": "code",
      "execution_count": null,
      "metadata": {
        "id": "SSfJNrYFauHE"
      },
      "outputs": [],
      "source": [
        "filtered1, filtered2, filtered3, filtered4 = filtered2[:25],filtered2[25:50],filtered2[50:75],filtered2[75:100] #slicing the data to 8 files"
      ]
    },
    {
      "cell_type": "code",
      "execution_count": null,
      "metadata": {
        "id": "eKRNLhIqbILC"
      },
      "outputs": [],
      "source": [
        "import json\n",
        "from google.colab import files\n",
        "#dumping the data into jsons\n",
        "#this only shows 4 files because we had to do this over two runtimes due to RAM limitations\n",
        "with open('filtered1.json', 'w') as f:\n",
        "    json.dump(filtered1, f)\n",
        "del filtered1\n",
        "\n",
        "with open('filtered2.json', 'w') as f:\n",
        "    json.dump(filtered2, f)\n",
        "del filtered2\n",
        "\n",
        "with open('filtered3.json', 'w') as f:\n",
        "    json.dump(filtered3, f)\n",
        "del filtered3\n",
        "\n",
        "with open('filtered4.json', 'w') as f:\n",
        "    json.dump(filtered4, f)\n",
        "del filtered4\n"
      ]
    },
    {
      "cell_type": "code",
      "execution_count": null,
      "metadata": {
        "colab": {
          "base_uri": "https://localhost:8080/"
        },
        "id": "fpgvsaRWhjMX",
        "outputId": "f249086d-503a-4182-d5d2-989d7e3a3383"
      },
      "outputs": [
        {
          "data": {
            "application/vnd.google.colaboratory.intrinsic+json": {
              "type": "string"
            },
            "text/plain": [
              "'/content/gdrive/MyDrive/BDA_Final_Project/filtered8.json'"
            ]
          },
          "execution_count": 6,
          "metadata": {},
          "output_type": "execute_result"
        }
      ],
      "source": [
        "import shutil\n",
        "#dumping jsons to drive\n",
        "colab_link1 = \"/content/filtered5.json\"\n",
        "colab_link2 = \"/content/filtered6.json\"\n",
        "colab_link3 = \"/content/filtered7.json\"\n",
        "colab_link4 = \"/content/filtered8.json\"\n",
        "\n",
        "\n",
        "gdrive_link = \"/content/gdrive/MyDrive/BDA_Final_Project/\"\n",
        "\n",
        "shutil.copy(colab_link1, gdrive_link)\n",
        "shutil.copy(colab_link2, gdrive_link)\n",
        "shutil.copy(colab_link3, gdrive_link)\n",
        "shutil.copy(colab_link4, gdrive_link)"
      ]
    },
    {
      "cell_type": "markdown",
      "metadata": {
        "id": "auraNBJSq7zD"
      },
      "source": [
        "#Loading Data"
      ]
    },
    {
      "cell_type": "code",
      "execution_count": null,
      "metadata": {
        "id": "UwQ0n03Rbn0x"
      },
      "outputs": [],
      "source": [
        "spark = SparkSession.builder.appName('sparkspot').getOrCreate() #creating spark session"
      ]
    },
    {
      "cell_type": "code",
      "execution_count": null,
      "metadata": {
        "id": "fhBFGPPzrfst"
      },
      "outputs": [],
      "source": [
        "dflist = []\n",
        "counter = 0 #loading json files from google drive\n",
        "for json_file in glob.glob(\"/content/gdrive/MyDrive/BDA_Final_Project/*.json\"): \n",
        "  dflist.append(spark.read.json('/content/gdrive/MyDrive/BDA_Final_Project/filtered1.json',multiLine=True))"
      ]
    },
    {
      "cell_type": "code",
      "execution_count": null,
      "metadata": {
        "id": "C3cjcPSiswbs"
      },
      "outputs": [],
      "source": [
        "dflist2 = [] #exploding concatenated tracks column\n",
        "for df in dflist:\n",
        "  dftemp = df.select(explode('playlists')).select(explode('col.tracks'),'col.name','col.pid',\n",
        "  'col.num_followers', 'col.num_tracks','col.duration_ms','col.num_artists').withColumnRenamed(\"duration_ms\",\"p_duration_ms\").select('col.*','*').drop('col')\n",
        "  dflist2.append(dftemp)"
      ]
    },
    {
      "cell_type": "code",
      "source": [
        "dflist2[0].printSchema()"
      ],
      "metadata": {
        "id": "fSLwaY-z3HNS"
      },
      "execution_count": null,
      "outputs": []
    },
    {
      "cell_type": "markdown",
      "source": [],
      "metadata": {
        "id": "ZTk5NmRd3Ers"
      }
    },
    {
      "cell_type": "code",
      "execution_count": null,
      "metadata": {
        "id": "OWniTm2SzD3U"
      },
      "outputs": [],
      "source": [
        "data_rdd = dflist2[0].rdd #transforming to rdd"
      ]
    },
    {
      "cell_type": "code",
      "execution_count": null,
      "metadata": {
        "id": "A8W-BjXdnoau"
      },
      "outputs": [],
      "source": [
        "dfc = dflist2[0] #creating a dataframe from the union of all dataframes\n",
        "for df in dflist2[1:4]:\n",
        "  dfc = dfc.union(df)"
      ]
    },
    {
      "cell_type": "markdown",
      "metadata": {
        "id": "hH6TfYU4e1Es"
      },
      "source": [
        "#Extracting feats"
      ]
    },
    {
      "cell_type": "code",
      "execution_count": null,
      "metadata": {
        "id": "mK-tOFwh7pML"
      },
      "outputs": [],
      "source": [
        "uris = []\n",
        "for df in dflist2:\n",
        "  uris.extend(df.select('track_uri').distinct().collect())"
      ]
    },
    {
      "cell_type": "code",
      "execution_count": null,
      "metadata": {
        "id": "mdbAD_QkBAtb"
      },
      "outputs": [],
      "source": [
        "uris = list(set(uris))\n",
        "uris = [i.asDict() for i in uris]\n",
        "uris = [i['track_uri'] for i in uris]"
      ]
    },
    {
      "cell_type": "code",
      "source": [
        "uris = [i.asDict() for i in uris]\n",
        "uris = [i['track_uri'] for i in uris]"
      ],
      "metadata": {
        "id": "WNS4_QG_n1Ah"
      },
      "execution_count": null,
      "outputs": []
    },
    {
      "cell_type": "code",
      "source": [
        "uri2 = list(set(uris))"
      ],
      "metadata": {
        "id": "eNfpyACkn43q"
      },
      "execution_count": null,
      "outputs": []
    },
    {
      "cell_type": "code",
      "execution_count": null,
      "metadata": {
        "id": "-vkSZv_nDnbl"
      },
      "outputs": [],
      "source": [
        "uris = []\n",
        "with open('uris.json', \"rb\") as infile:\n",
        "      uris.extend(json.load(infile))\n",
        "feats = []\n",
        "with open('feats1.json', \"rb\") as infile:\n",
        "      feats.extend(json.load(infile))"
      ]
    },
    {
      "cell_type": "code",
      "source": [
        "feats = [i['uri'] for i in feats if i != None]\n",
        "uris = list(set(uris) - set(feats))"
      ],
      "metadata": {
        "id": "bISyrJYdUgE9"
      },
      "execution_count": null,
      "outputs": []
    },
    {
      "cell_type": "code",
      "source": [
        "colab_link1 = \"/content/uris.json\"\n",
        "colab_link2 = \"/content/feats1.json\"\n",
        "\n",
        "\n",
        "gdrive_link = \"/content/gdrive/MyDrive/BDA_Final_Project/uri_feats/\"\n",
        "\n",
        "shutil.copy(colab_link1, gdrive_link)\n",
        "shutil.copy(colab_link2, gdrive_link)"
      ],
      "metadata": {
        "colab": {
          "base_uri": "https://localhost:8080/",
          "height": 35
        },
        "id": "V_nG7Y0eXhCA",
        "outputId": "fec9d0a4-6c12-48b7-fc86-2e7ab4bf6e9e"
      },
      "execution_count": null,
      "outputs": [
        {
          "output_type": "execute_result",
          "data": {
            "text/plain": [
              "'/content/gdrive/MyDrive/BDA_Final_Project/uri_feats/feats1.json'"
            ],
            "application/vnd.google.colaboratory.intrinsic+json": {
              "type": "string"
            }
          },
          "metadata": {},
          "execution_count": 24
        }
      ]
    },
    {
      "cell_type": "code",
      "execution_count": null,
      "metadata": {
        "id": "T8ay1oyOClUY"
      },
      "outputs": [],
      "source": [
        "import time\n",
        "def search_song(track_uri: str):\n",
        "    feature = None\n",
        "    while type(feature) != list:\n",
        "      feature = sp.audio_features(track_uri)\n",
        "    audio_feats.extend(feature[0])\n",
        "    return"
      ]
    },
    {
      "cell_type": "code",
      "execution_count": null,
      "metadata": {
        "id": "xItaEfOvskdl"
      },
      "outputs": [],
      "source": [
        "# Spotify credentials\n",
        "auth_manager = SpotifyClientCredentials(client_id='f354e90a115c46abb51ab4ebfdb55ce9', client_secret='c')\n",
        "sp = spotipy.client.Spotify(auth_manager=auth_manager)\n",
        "audio_feats = []\n",
        "executor = ThreadPoolExecutor(12)\n",
        "futures = []\n",
        "for track in uris:\n",
        "    track_uri = track.split(\":\")[2]\n",
        "    future = executor.submit(search_song, (track_uri))\n",
        "    futures.append(future)\n",
        "    uris.remove(track)"
      ]
    },
    {
      "cell_type": "code",
      "execution_count": null,
      "metadata": {
        "colab": {
          "base_uri": "https://localhost:8080/",
          "height": 36
        },
        "id": "Ua5p48NJGJ7y",
        "outputId": "24be716e-1a14-48d4-b7f4-22c594ee6962"
      },
      "outputs": [
        {
          "data": {
            "application/vnd.google.colaboratory.intrinsic+json": {
              "type": "string"
            },
            "text/plain": [
              "'energy'"
            ]
          },
          "execution_count": 26,
          "metadata": {},
          "output_type": "execute_result"
        }
      ],
      "source": [
        "audio_feats[1]"
      ]
    },
    {
      "cell_type": "code",
      "source": [
        "type((1,2)) == list"
      ],
      "metadata": {
        "colab": {
          "base_uri": "https://localhost:8080/"
        },
        "id": "IBiNkQ7zxNZq",
        "outputId": "53cdab06-bde3-4f46-bcf6-a1608ab25dc7"
      },
      "execution_count": null,
      "outputs": [
        {
          "output_type": "execute_result",
          "data": {
            "text/plain": [
              "False"
            ]
          },
          "metadata": {},
          "execution_count": 238
        }
      ]
    },
    {
      "cell_type": "markdown",
      "metadata": {
        "id": "MphM6ax2wKik"
      },
      "source": [
        "#Analytics Jobs"
      ]
    },
    {
      "cell_type": "markdown",
      "metadata": {
        "id": "coXUgxGA1EsS"
      },
      "source": [
        "##Most Popular Tracks"
      ]
    },
    {
      "cell_type": "code",
      "execution_count": null,
      "metadata": {
        "id": "gEARSRuBLl9e"
      },
      "outputs": [],
      "source": [
        "top_tracks = dfc.groupBy(\"track_name\").count().orderBy(desc(\"count\")).take(10)"
      ]
    },
    {
      "cell_type": "code",
      "execution_count": null,
      "metadata": {
        "id": "qY3AEhWFU0ba"
      },
      "outputs": [],
      "source": [
        "top_tracks = [i.asDict() for i in top_tracks]"
      ]
    },
    {
      "cell_type": "code",
      "execution_count": null,
      "metadata": {
        "colab": {
          "base_uri": "https://localhost:8080/",
          "height": 434
        },
        "id": "N5Hn7-WxR5wQ",
        "outputId": "3ceeb6d1-d868-430f-ff3c-32662f5e356f"
      },
      "outputs": [
        {
          "data": {
            "image/png": "[encoded data removed]",
            "text/plain": [
              "<Figure size 1080x360 with 1 Axes>"
            ]
          },
          "metadata": {},
          "output_type": "display_data"
        }
      ],
      "source": [
        "tracks = []\n",
        "count = []\n",
        "for k in top_tracks:\n",
        "    tracks.append(k['track_name']) #replacing champID by champion name\n",
        "    count.append(k['count'])\n",
        "f, ax = plt.subplots(figsize=(15,5))\n",
        "plt.bar(tracks,count);\n",
        "plt.xlabel(\"Track Title\", labelpad = 20);\n",
        "plt.xticks(rotation = 45);\n",
        "plt.ylabel(\"Occurences in Playlist\");"
      ]
    },
    {
      "cell_type": "markdown",
      "metadata": {
        "id": "VtZKtYgjWA23"
      },
      "source": [
        "##Most Popular Artists"
      ]
    },
    {
      "cell_type": "code",
      "execution_count": null,
      "metadata": {
        "id": "LyiYp9yGWA23"
      },
      "outputs": [],
      "source": [
        "top_artists = dfc.groupBy(\"artist_name\").count().orderBy(desc(\"count\")).take(10)"
      ]
    },
    {
      "cell_type": "code",
      "execution_count": null,
      "metadata": {
        "id": "kpp97KirWA23"
      },
      "outputs": [],
      "source": [
        "top_artists = [i.asDict() for i in top_artists]"
      ]
    },
    {
      "cell_type": "code",
      "execution_count": null,
      "metadata": {
        "colab": {
          "base_uri": "https://localhost:8080/",
          "height": 402
        },
        "id": "eHM9r94kWA23",
        "outputId": "0453f712-fe60-4101-f266-9cf93af0d701"
      },
      "outputs": [
        {
          "data": {
            "image/png": "[encoded data removed]",
            "text/plain": [
              "<Figure size 1080x360 with 1 Axes>"
            ]
          },
          "metadata": {},
          "output_type": "display_data"
        }
      ],
      "source": [
        "artists = []\n",
        "count = []\n",
        "for k in top_artists:\n",
        "    artists.append(k['artist_name']) #replacing champID by champion name\n",
        "    count.append(k['count'])\n",
        "f, ax = plt.subplots(figsize=(15,5))\n",
        "plt.bar(artists,count);\n",
        "plt.xlabel(\"Artist Name\", labelpad = 20);\n",
        "plt.xticks(rotation = 45);\n",
        "plt.ylabel(\"Occurences in Playlists\");"
      ]
    },
    {
      "cell_type": "markdown",
      "metadata": {
        "id": "DOV1T4TIXv7n"
      },
      "source": [
        "##Most Popular Albums"
      ]
    },
    {
      "cell_type": "code",
      "execution_count": null,
      "metadata": {
        "id": "3l0liLQJXv7n"
      },
      "outputs": [],
      "source": [
        "top_albums = dfc.groupBy(\"album_name\").count().orderBy(desc(\"count\")).take(10)"
      ]
    },
    {
      "cell_type": "code",
      "execution_count": null,
      "metadata": {
        "id": "UFquIUmMXv7n"
      },
      "outputs": [],
      "source": [
        "top_albums = [i.asDict() for i in top_albums]"
      ]
    },
    {
      "cell_type": "code",
      "execution_count": null,
      "metadata": {
        "colab": {
          "base_uri": "https://localhost:8080/",
          "height": 447
        },
        "id": "6Ez3CFoFXv7n",
        "outputId": "a7de70ae-b219-4493-d817-6eb61723e654"
      },
      "outputs": [
        {
          "data": {
            "image/png": "[encoded data removed]",
            "text/plain": [
              "<Figure size 1080x360 with 1 Axes>"
            ]
          },
          "metadata": {},
          "output_type": "display_data"
        }
      ],
      "source": [
        "albums = []\n",
        "count = []\n",
        "for k in top_albums:\n",
        "    albums.append(k['album_name']) #replacing champID by champion name\n",
        "    count.append(k['count'])\n",
        "f, ax = plt.subplots(figsize=(15,5))\n",
        "plt.bar(albums,count);\n",
        "plt.xlabel(\"Album Name\", labelpad = 20);\n",
        "plt.xticks(rotation = 45);\n",
        "plt.ylabel(\"Occurences in Playlists\");"
      ]
    },
    {
      "cell_type": "markdown",
      "source": [
        "##Playlist Duration Vs Number of Followers"
      ],
      "metadata": {
        "id": "8PnCXAfRS1Al"
      }
    },
    {
      "cell_type": "code",
      "source": [
        "dfp = dflist2[0].select('p_duration_ms', 'num_followers').toPandas()"
      ],
      "metadata": {
        "id": "QdaXNQgNSzwY"
      },
      "execution_count": null,
      "outputs": []
    },
    {
      "cell_type": "code",
      "source": [
        "dfp['p_duration'] = dfp['p_duration_ms'].divide(60000)\n",
        "del dfp['p_duration_ms']"
      ],
      "metadata": {
        "id": "kLLpTmWzWOTo"
      },
      "execution_count": null,
      "outputs": []
    },
    {
      "cell_type": "code",
      "source": [
        "dfp = dfp[dfp['num_followers']>5]\n",
        "dfp.plot.scatter(x ='p_duration',y = 'num_followers', figsize = (30,10), title = 'Playlist Duration Vs Playlist Follower Count' )"
      ],
      "metadata": {
        "colab": {
          "base_uri": "https://localhost:8080/",
          "height": 639
        },
        "id": "rLTlBobHWfjo",
        "outputId": "1f67ac53-92e3-472a-803d-5decf10401ad"
      },
      "execution_count": null,
      "outputs": [
        {
          "output_type": "execute_result",
          "data": {
            "text/plain": [
              "<matplotlib.axes._subplots.AxesSubplot at 0x7f8cc6521b50>"
            ]
          },
          "metadata": {},
          "execution_count": 43
        },
        {
          "output_type": "display_data",
          "data": {
            "text/plain": [
              "<Figure size 2160x720 with 1 Axes>"
            ],
            "image/png": "[encoded data removed]"
          },
          "metadata": {
            "needs_background": "light"
          }
        }
      ]
    },
    {
      "cell_type": "markdown",
      "source": [
        "##Playlist Variability Vs Number of Followers"
      ],
      "metadata": {
        "id": "yIz_2qpPX0BG"
      }
    },
    {
      "cell_type": "code",
      "source": [
        "dfp = dflist2[0].select('num_tracks','num_artists', 'num_followers').toPandas()"
      ],
      "metadata": {
        "id": "6MHz94wiX0BG"
      },
      "execution_count": null,
      "outputs": []
    },
    {
      "cell_type": "code",
      "source": [
        "dfp['variability'] = dfp['num_tracks']/dfp['num_artists'] #variability is defined as the number of tracks in playlist divided by the number of artists in playlist"
      ],
      "metadata": {
        "id": "uUNqb5KkX0BG"
      },
      "execution_count": null,
      "outputs": []
    },
    {
      "cell_type": "code",
      "source": [
        "dfp = dfp[dfp['num_followers']>5]\n",
        "dfp.plot.scatter(x ='variability',y = 'num_followers', figsize = (30,10), title = 'Playlist Variability Vs Playlist Follower Count' )"
      ],
      "metadata": {
        "outputId": "e4c74868-82bb-4c68-c71c-119a9a00c28c",
        "colab": {
          "base_uri": "https://localhost:8080/",
          "height": 638
        },
        "id": "dCDNFCwYX0BG"
      },
      "execution_count": null,
      "outputs": [
        {
          "output_type": "execute_result",
          "data": {
            "text/plain": [
              "<matplotlib.axes._subplots.AxesSubplot at 0x7f8cc87e9700>"
            ]
          },
          "metadata": {},
          "execution_count": 40
        },
        {
          "output_type": "display_data",
          "data": {
            "text/plain": [
              "<Figure size 2160x720 with 1 Axes>"
            ],
            "image/png": "[encoded data removed]"
          },
          "metadata": {
            "needs_background": "light"
          }
        }
      ]
    },
    {
      "cell_type": "markdown",
      "source": [
        "#Collaborative Recommendation Systems"
      ],
      "metadata": {
        "id": "-RABHe8eLL-P"
      }
    },
    {
      "cell_type": "markdown",
      "source": [
        "##Grouping by Playlist"
      ],
      "metadata": {
        "id": "-6sT0rjuwl9U"
      }
    },
    {
      "cell_type": "code",
      "source": [
        "def playlist_track_mapper (record): #maps data to ((playlist id, playlist follower count), track name, album name, artist name)\n",
        "  return ((record['pid'],record['num_followers']),(record['track_name'],record['album_name'],record['artist_name']))"
      ],
      "metadata": {
        "id": "dJtD-Cp1Liut"
      },
      "execution_count": null,
      "outputs": []
    },
    {
      "cell_type": "code",
      "source": [
        "pid_tracks = data_rdd.map(playlist_track_mapper).groupByKey().mapValues(list) #applies mapping and groups by PID"
      ],
      "metadata": {
        "id": "DHtfA4JwJSoQ"
      },
      "execution_count": null,
      "outputs": []
    },
    {
      "cell_type": "markdown",
      "source": [
        "##Track Recommender (Playlist Continuation)"
      ],
      "metadata": {
        "id": "KVnXEjV6wpPF"
      }
    },
    {
      "cell_type": "code",
      "source": [
        "def track_recommendation_system(track_artist_list): #Takes in a list of (Track, Artist) Tuples and generates track recommendations\n",
        "  #Input Checks\n",
        "  if type(track_artist_list) == tuple:\n",
        "    #if input is tuple turn into a list of one item\n",
        "    track_artist_list = [track_artist_list]\n",
        "  elif type(track_artist_list) != list:\n",
        "    return 'Please Enter Input in the form of a list of (Track,Artist) Tuples or a single (Track,Artist) Tuple'\n",
        "  def track_count_mapper (record): # creates a tuple of song, artist and number of occurences\n",
        "    tracks = record[1]\n",
        "    return list(map(lambda x: ((x[0],x[2]),1),tracks))\n",
        "  #filtering the playlist grouped tracks by only including playlists which contain the user-input tracks\n",
        "  #the filtered playlists are then sorted so the playlists with the greatest number of included tracks are at the top\n",
        "  #all track names are converted to lower case to avoid false negatives\n",
        "  filtered_pid_tracks =  pid_tracks.filter(lambda x: len(set([(i[0].lower(),i[1].lower()) for i in track_artist_list]) & set([(j[0].lower(),j[2].lower()) for j in x[1]]))>0).sortBy(lambda x: len(set([(i[0].lower(),i[1].lower()) for i in track_artist_list]) & set([(j[0].lower(),j[2].lower()) for j in x[1]])),ascending = False)\n",
        "  \n",
        "  if len(filtered_pid_tracks.collect()) == 0: #check for if no matches occur\n",
        "    return \"No matches, Try to enter the full song title.\"\n",
        "  #taking the top 100 filtered and sorted playlists, and then sorting them by number of followers \n",
        "  top_playlists = filtered_pid_tracks.toDF().limit(100).rdd.map(lambda x: ((x['_1']['_1'],x['_1']['_2']),[(i['_1'],i['_2'],i['_3']) for i in x['_2']])).sortBy(lambda x : x[0][1],ascending = False).toDF().limit(20).rdd.map(lambda x: ((x['_1']['_1'],x['_1']['_2']),[(i['_1'],i['_2'],i['_3']) for i in x['_2']]))\n",
        "  #taking the 20 most occuring songs in the top 100 playlists as recommendations\n",
        "  top_songs = top_playlists.flatMap(track_count_mapper).reduceByKey(lambda a,b: a+b).filter(lambda x: not x[0] in track_artist_list).sortBy(lambda x: x[1],ascending = False).take(20)\n",
        "  return list(map(lambda x: x[0],top_songs))"
      ],
      "metadata": {
        "id": "iFO9BnvLuT8E"
      },
      "execution_count": null,
      "outputs": []
    },
    {
      "cell_type": "code",
      "source": [
        "track_recommendation_system([('On Melancholy Hill', 'Gorillaz'),\\\n",
        "                             ('Feels Like We Only Go Backwards', 'Tame Impala'),\\\n",
        "                             ('Stolen Dance', 'Milky Chance'),\\\n",
        "                             ('Clint Eastwood', 'Gorillaz'),\\\n",
        "                             ('Breezeblocks', 'alt-J')])"
      ],
      "metadata": {
        "colab": {
          "base_uri": "https://localhost:8080/"
        },
        "id": "CwiWS8Vyv3Wd",
        "outputId": "9dff1ff2-403c-474a-c2b3-c994707e5d87"
      },
      "execution_count": null,
      "outputs": [
        {
          "output_type": "execute_result",
          "data": {
            "text/plain": [
              "[('Tongue Tied', 'Grouplove'),\n",
              " ('Cigarette Daydreams', 'Cage The Elephant'),\n",
              " (\"Why'd You Only Call Me When You're High?\", 'Arctic Monkeys'),\n",
              " ('Someday', 'The Strokes'),\n",
              " ('What You Know', 'Two Door Cinema Club'),\n",
              " ('Riptide', 'Vance Joy'),\n",
              " ('Do I Wanna Know?', 'Arctic Monkeys'),\n",
              " ('Ways To Go', 'Grouplove'),\n",
              " ('Come a Little Closer', 'Cage The Elephant'),\n",
              " ('Shake Me Down', 'Cage The Elephant'),\n",
              " ('Young Folks', 'Peter Bjorn and John'),\n",
              " ('Walking On A Dream', 'Empire of the Sun'),\n",
              " ('Float On', 'Modest Mouse'),\n",
              " ('Midnight City', 'M83'),\n",
              " ('Two Weeks', 'Grizzly Bear'),\n",
              " ('Mr. Brightside', 'The Killers'),\n",
              " ('Flashed Junk Mind', 'Milky Chance'),\n",
              " ('Purple Yellow Red and Blue', 'Portugal. The Man'),\n",
              " ('San Francisco', \"The Mowgli's\"),\n",
              " ('Left Hand Free', 'alt-J')]"
            ]
          },
          "metadata": {},
          "execution_count": 13
        }
      ]
    },
    {
      "cell_type": "markdown",
      "source": [
        "##Track Recommendation (Artist Based)\n"
      ],
      "metadata": {
        "id": "LEOpMS4PsvUV"
      }
    },
    {
      "cell_type": "code",
      "source": [
        "def track_recommendation_system_2(artist_list, num_tracks): #Takes in a list of Artists and generates track recommendations\n",
        "  #Input Checks\n",
        "  if type(artist_list) == str:\n",
        "    artist_list = [artist_list]\n",
        "  elif type(artist_list) != list:\n",
        "    return 'Please Enter Input in the form of a list of Artists or a single Artist)'\n",
        "  elif type(num_tracks) != int:\n",
        "    return 'Please enter an integer for the number of required tracks'\n",
        "  def track_count_mapper (record): #Mapper that maps a record to Song, Artist, and number of occurences\n",
        "    tracks = record[1]\n",
        "    return list(map(lambda x: ((x[0],x[2]),1),tracks))\n",
        "  #filtering playlists so that only playlists with the tracks from input artist list are included\n",
        "  #the filtered playlists are then sorted so the playlists with the greatest number of included tracks are at the top\n",
        "  filtered_pid_tracks =  pid_tracks.filter(lambda x: len(set([i.lower() for i in artist_list]) & set([j[2].lower() for j in x[1]]))>0).sortBy(lambda x: len(set([i.lower() for i in artist_list]) & set([j[2].lower() for j in x[1]])),ascending = False)\n",
        "  if len(filtered_pid_tracks.collect()) == 0: #check for if no matches occur\n",
        "    return \"No matches, Try to enter the full song title.\"\n",
        "  #taking the top 100 filtered and sorted playlists, and then sorting them by number of followers\n",
        "  top_playlists = filtered_pid_tracks.toDF().limit(100).rdd.map(lambda x: ((x['_1']['_1'],x['_1']['_2']),[(i['_1'],i['_2'],i['_3']) for i in x['_2']])).sortBy(lambda x : x[0][1],ascending = False).toDF().limit(20).rdd.map(lambda x: ((x['_1']['_1'],x['_1']['_2']),[(i['_1'],i['_2'],i['_3']) for i in x['_2']]))\n",
        "  #taking the N most occuring songs in the top 100 playlists as recommendations \n",
        "  if num_tracks>100 or num_tracks < 1:\n",
        "    return 'Please enter a number of tracks between 0 and 100'\n",
        "  top_songs = top_playlists.flatMap(track_count_mapper).reduceByKey(lambda a,b: a+b).filter(lambda x: not x[0][1] in artist_list).sortBy(lambda x: x[1],ascending = False).take(num_tracks)\n",
        "  return list(map(lambda x: x[0],top_songs))"
      ],
      "metadata": {
        "id": "1ON3zfsKs2HD"
      },
      "execution_count": null,
      "outputs": []
    },
    {
      "cell_type": "code",
      "source": [
        "track_recommendation_system_2(['Radiohead','The Strokes','Arctic Monkeys'],30)"
      ],
      "metadata": {
        "colab": {
          "base_uri": "https://localhost:8080/"
        },
        "id": "ng1hztF6vGq2",
        "outputId": "cdd14094-0cfa-43c3-db36-6916552909bf"
      },
      "execution_count": null,
      "outputs": [
        {
          "output_type": "execute_result",
          "data": {
            "text/plain": [
              "[('On Melancholy Hill', 'Gorillaz'),\n",
              " ('Feels Like We Only Go Backwards', 'Tame Impala'),\n",
              " ('Stolen Dance', 'Milky Chance'),\n",
              " ('Clint Eastwood', 'Gorillaz'),\n",
              " ('Breezeblocks', 'alt-J'),\n",
              " ('Intro', 'The xx'),\n",
              " ('Oxford Comma', 'Vampire Weekend'),\n",
              " ('Pumped Up Kicks', 'Foster The People'),\n",
              " ('Time to Pretend', 'MGMT'),\n",
              " ('Riptide', 'Vance Joy'),\n",
              " ('Cigarette Daydreams', 'Cage The Elephant'),\n",
              " ('Float On', 'Modest Mouse'),\n",
              " ('Young Folks', 'Peter Bjorn and John'),\n",
              " ('Lisztomania', 'Phoenix'),\n",
              " ('Scar Tissue', 'Red Hot Chili Peppers'),\n",
              " ('Maps', 'Yeah Yeah Yeahs'),\n",
              " ('1979', 'The Smashing Pumpkins'),\n",
              " ('Ways To Go', 'Grouplove'),\n",
              " ('When You Were Young', 'The Killers'),\n",
              " ('Lonely Boy', 'The Black Keys'),\n",
              " ('Tongue Tied', 'Grouplove'),\n",
              " ('Afraid', 'The Neighbourhood'),\n",
              " ('Midnight City', 'M83'),\n",
              " ('Gooey', 'Glass Animals'),\n",
              " ('Heart-Shaped Box', 'Nirvana'),\n",
              " ('Walking On A Dream', 'Empire of the Sun'),\n",
              " ('Feel Good Inc', 'Gorillaz'),\n",
              " ('Kids With Guns', 'Gorillaz'),\n",
              " ('Icky Thump', 'The White Stripes'),\n",
              " ('Two Weeks', 'Grizzly Bear')]"
            ]
          },
          "metadata": {},
          "execution_count": 373
        }
      ]
    },
    {
      "cell_type": "markdown",
      "source": [
        "##Album Recommender"
      ],
      "metadata": {
        "id": "KTnjb5Bv0DoA"
      }
    },
    {
      "cell_type": "code",
      "source": [
        "def album_recommendation_system(track_artist_list): #Takes in a list of (Track, Artist) Tuples and generates album recommendations\n",
        "  #Input checks\n",
        "  if type(track_artist_list) == tuple:\n",
        "    track_artist_list = [track_artist_list]\n",
        "  elif type(track_artist_list) != list:\n",
        "    return 'Please Enter Input in the form of a list of (Track,Artist) Tuples or a single (Track,Artist) Tuple'\n",
        "  def album_count_mapper (record): #mapper that outputs a tuple of album, artist, and 1\n",
        "    tracks = record[1]\n",
        "    return list(map(lambda x: ((x[1],x[2]),1),tracks))\n",
        "  #filtering the playlist grouped tracks by only including playlists which contain the user-input tracks\n",
        "  #the filtered playlists are then sorted so the playlists with the greatest number of included tracks are at the top\n",
        "  #all track names are converted to lower case to avoid false negatives\n",
        "  filtered_pid_tracks =  pid_tracks.filter(lambda x: len(set([(i[0].lower(),i[1].lower()) for i in track_artist_list]) & set([(j[0].lower(),j[2].lower()) for j in x[1]]))>0).sortBy(lambda x: len(set([(i[0].lower(),i[1].lower()) for i in track_artist_list]) & set([(j[0].lower(),j[2].lower()) for j in x[1]])),ascending = False)\n",
        "  if len(filtered_pid_tracks.collect()) == 0:\n",
        "    return \"No matches, Try to enter the full song title.\"\n",
        "  #taking the top 100 filtered and sorted playlists, and then sorting them by number of followers\n",
        "  top_playlists = filtered_pid_tracks.toDF().limit(100).rdd.map(lambda x: ((x['_1']['_1'],x['_1']['_2']),[(i['_1'],i['_2'],i['_3']) for i in x['_2']])).sortBy(lambda x : x[0][1],ascending = False).toDF().limit(20).rdd.map(lambda x: ((x['_1']['_1'],x['_1']['_2']),[(i['_1'],i['_2'],i['_3']) for i in x['_2']]))\n",
        "  #taking the N most occuring albums in the top 100 playlists as recommendations \n",
        "  top_albums = top_playlists.flatMap(album_count_mapper).reduceByKey(lambda a,b: a+b).sortBy(lambda x: x[1],ascending = False).take(20)\n",
        "  return list(map(lambda x: x[0],top_albums))"
      ],
      "metadata": {
        "id": "-rUDvB057XvR"
      },
      "execution_count": null,
      "outputs": []
    },
    {
      "cell_type": "code",
      "source": [
        "album_recommendation_system(('Bohemian Rhapsody - Remastered 2011', 'Queen'))"
      ],
      "metadata": {
        "colab": {
          "base_uri": "https://localhost:8080/"
        },
        "id": "LTrTvLZrC5qD",
        "outputId": "d9ca2c91-5f53-427a-bba7-c8a186ed27fb"
      },
      "execution_count": null,
      "outputs": [
        {
          "output_type": "execute_result",
          "data": {
            "text/plain": [
              "[('A Night At The Opera', 'Queen'),\n",
              " ('Appetite For Destruction', \"Guns N' Roses\"),\n",
              " ('Slippery When Wet', 'Bon Jovi'),\n",
              " ('Abbey Road', 'The Beatles'),\n",
              " ('Back In Black', 'AC/DC'),\n",
              " ('The Game', 'Queen'),\n",
              " ('Jazz', 'Queen'),\n",
              " ('Boston', 'Boston'),\n",
              " ('News Of The World', 'Queen'),\n",
              " ('American Pie', 'Don McLean'),\n",
              " ('Second Helping', 'Lynyrd Skynyrd'),\n",
              " ('Toys In The Attic', 'Aerosmith'),\n",
              " (\"Pronounced' Leh-'Nerd 'Skin-'Nerd\", 'Lynyrd Skynyrd'),\n",
              " ('Leftoverture', 'Kansas'),\n",
              " ('1984', 'Van Halen'),\n",
              " ('Escape', 'Journey'),\n",
              " ('Working Class Dog', 'Rick Springfield'),\n",
              " ('Hotel California (Remastered)', 'Eagles'),\n",
              " ('Hot Space', 'Queen'),\n",
              " ('Greatest', 'Bee Gees')]"
            ]
          },
          "metadata": {},
          "execution_count": 274
        }
      ]
    },
    {
      "cell_type": "markdown",
      "source": [
        "##Artist Recommender"
      ],
      "metadata": {
        "id": "fQfBFEMJEAWH"
      }
    },
    {
      "cell_type": "code",
      "source": [
        "def artist_recommendation_system(track_artist_list):  #Takes in a list of (Track, Artist) Tuples and generates artist recommendations\n",
        "  #Input Checks\n",
        "  if type(track_artist_list) == tuple:\n",
        "    track_artist_list = [track_artist_list]\n",
        "  elif type(track_artist_list) != list:\n",
        "    return 'Please Enter Input in the form of a list of (Track,Artist) Tuples or a single (Track,Artist) Tuple'\n",
        "  def album_count_mapper (record): #mapper that outputs a tuple of artist, and 1\n",
        "    tracks = record[1]\n",
        "    return list(map(lambda x: (x[2],1),tracks))\n",
        "  #filtering the playlist grouped tracks by only including playlists which contain the user-input tracks\n",
        "  #the filtered playlists are then sorted so the playlists with the greatest number of included tracks are at the top\n",
        "  #all track names are converted to lower case to avoid false negatives\n",
        "  filtered_pid_tracks =  pid_tracks.filter(lambda x: len(set([(i[0].lower(),i[1].lower()) for i in track_artist_list]) & set([(j[0].lower(),j[2].lower()) for j in x[1]]))>0).sortBy(lambda x: len(set([(i[0].lower(),i[1].lower()) for i in track_artist_list]) & set([(j[0].lower(),j[2].lower()) for j in x[1]])),ascending = False)\n",
        "  if len(filtered_pid_tracks.collect()) == 0:\n",
        "    return \"No matches, Try to enter the full song title.\"\n",
        "  #taking the top 100 filtered and sorted playlists, and then sorting them by number of followers\n",
        "  top_playlists = filtered_pid_tracks.toDF().limit(100).rdd.map(lambda x: ((x['_1']['_1'],x['_1']['_2']),[(i['_1'],i['_2'],i['_3']) for i in x['_2']])).sortBy(lambda x : x[0][1],ascending = False).toDF().limit(20).rdd.map(lambda x: ((x['_1']['_1'],x['_1']['_2']),[(i['_1'],i['_2'],i['_3']) for i in x['_2']]))\n",
        "  artist_list = list(map(list,zip(*track_artist_list)))[1]\n",
        "  #taking the 20 most occuring artists in the top 100 playlists as recommendations after filtering out those from user input\n",
        "  top_artists = top_playlists.flatMap(album_count_mapper).reduceByKey(lambda a,b: a+b).filter(lambda x: not x[0] in artist_list).sortBy(lambda x: x[1],ascending = False).take(20)\n",
        "  return list(map(lambda x: x[0],top_artists))"
      ],
      "metadata": {
        "id": "KMWct3y0EDTo"
      },
      "execution_count": null,
      "outputs": []
    },
    {
      "cell_type": "code",
      "source": [
        "artist_recommendation_system(('No Surprises','Radiohead'))"
      ],
      "metadata": {
        "colab": {
          "base_uri": "https://localhost:8080/"
        },
        "id": "ExTEyAryFk9T",
        "outputId": "b286b0cf-412c-4bde-e6f2-881bf63b2ddd"
      },
      "execution_count": null,
      "outputs": [
        {
          "output_type": "execute_result",
          "data": {
            "text/plain": [
              "['Coldplay',\n",
              " 'Red Hot Chili Peppers',\n",
              " 'Nirvana',\n",
              " 'Muse',\n",
              " 'The Smashing Pumpkins',\n",
              " 'Mac Demarco',\n",
              " 'Foo Fighters',\n",
              " 'Banks',\n",
              " 'The Strokes',\n",
              " 'Air',\n",
              " 'The Breeders',\n",
              " 'Sugar Ray',\n",
              " 'No Doubt',\n",
              " 'Never Shout Never',\n",
              " 'The Cure',\n",
              " 'Phoenix',\n",
              " 'Pixies',\n",
              " 'Tame Impala',\n",
              " 'alt-J',\n",
              " 'The Velvet Underground']"
            ]
          },
          "metadata": {},
          "execution_count": 295
        }
      ]
    },
    {
      "cell_type": "markdown",
      "source": [
        "##Grouping Data by Artist"
      ],
      "metadata": {
        "id": "MitApO7-XckI"
      }
    },
    {
      "cell_type": "code",
      "source": [
        "def artist_track_mapper (record): # maps data to ((artist name, track name), playlists the track occurs in, the number of followers of each playlist the track occurs in)\n",
        "  return ((record['artist_name'],record['track_name']),(record['pid'],record['num_followers']))"
      ],
      "metadata": {
        "id": "la5LvKJeXckI"
      },
      "execution_count": null,
      "outputs": []
    },
    {
      "cell_type": "code",
      "source": [
        "def artist_track_playlists_followers_mapper(record):# maps to ((artist name, track name), number of playlists track occurs in, Max number of followers of playlists the track occurs in)\n",
        "  playlists, num_followers= list(map(list,zip(*record[1])))\n",
        "  numfollowers = max(num_followers)\n",
        "  numplaylists = len(playlists)\n",
        "  return (record[0],(numplaylists,numfollowers))"
      ],
      "metadata": {
        "id": "g1Jmoj1xguGF"
      },
      "execution_count": null,
      "outputs": []
    },
    {
      "cell_type": "code",
      "source": [
        "artist_tracks = data_rdd.map(artist_track_mapper).groupByKey().mapValues(list).map(artist_track_playlists_followers_mapper) #applies mapping and groups by artist name and track name"
      ],
      "metadata": {
        "id": "9WCU3eE5XckI"
      },
      "execution_count": null,
      "outputs": []
    },
    {
      "cell_type": "code",
      "source": [
        "test = artist_tracks.take(5)"
      ],
      "metadata": {
        "id": "ZA2hUC0JXckI"
      },
      "execution_count": null,
      "outputs": []
    },
    {
      "cell_type": "markdown",
      "source": [
        "##Artist-Based Playlist Generator"
      ],
      "metadata": {
        "id": "gZoV-aXUPHvi"
      }
    },
    {
      "cell_type": "code",
      "source": [
        "def artist_playlist_generator(artist_list,playlist_size): #takes in artist list and required playlist size (n) and outputs N tracks\n",
        "  #Input Checks\n",
        "  if type(artist_list) == str:\n",
        "    artist_list = [artist_list]\n",
        "  elif type(artist_list) != list:\n",
        "    return 'Please enter input in the form of a list of artists tuples or a single artist string'\n",
        "  elif type(playlist_size) != int:\n",
        "    return 'Please enter the playlist size as an integer '\n",
        "  #filtering records so only those with artists from the artist list are present. then sorting by number of playlist occurences, taking the top 100 tracks, then sorting them by playlist follower count\n",
        "  filtered_artist_tracks =  artist_tracks.filter(lambda x: x[0][0].lower() in [i.lower() for i in artist_list]).sortBy(lambda x: x[1][0],ascending = False).toDF().limit(100).rdd.map(lambda x: ((x['_1']['_1'],x['_1']['_2']),(x['_2']['_1'],x['_2']['_2']))).sortBy(lambda x : x[1][1],ascending = False)\n",
        "  if playlist_size > 100 or playlist_size < 1:\n",
        "    return 'Please enter a number between 1 and 100'\n",
        "  #taking the top N tracks\n",
        "  recommended_tracks = filtered_artist_tracks.toDF().limit(playlist_size).rdd.map(lambda x: (x['_1']['_2'],x['_1']['_1'])).collect()\n",
        "  return recommended_tracks"
      ],
      "metadata": {
        "id": "G4z5AlmBmSNj"
      },
      "execution_count": null,
      "outputs": []
    },
    {
      "cell_type": "code",
      "source": [
        "artist_playlist_generator(['Radiohead','The Strokes','Arctic Monkeys'],50)"
      ],
      "metadata": {
        "colab": {
          "base_uri": "https://localhost:8080/"
        },
        "id": "JPUdoSa-VzGo",
        "outputId": "e76e4f34-16bd-4373-f40c-a6add66d6fb9"
      },
      "execution_count": null,
      "outputs": [
        {
          "output_type": "execute_result",
          "data": {
            "text/plain": [
              "[('Fluorescent Adolescent', 'Arctic Monkeys'),\n",
              " ('505', 'Arctic Monkeys'),\n",
              " ('Only Ones Who Know', 'Arctic Monkeys'),\n",
              " ('Crying Lightning', 'Arctic Monkeys'),\n",
              " ('Cornerstone', 'Arctic Monkeys'),\n",
              " ('My Propeller', 'Arctic Monkeys'),\n",
              " ('Do Me A Favour', 'Arctic Monkeys'),\n",
              " (\"She's Thunderstorms\", 'Arctic Monkeys'),\n",
              " ('2 + 2 = 5', 'Radiohead'),\n",
              " ('Do I Wanna Know?', 'Arctic Monkeys'),\n",
              " ('R U Mine?', 'Arctic Monkeys'),\n",
              " ('I Wanna Be Yours', 'Arctic Monkeys'),\n",
              " ('Last Nite', 'The Strokes'),\n",
              " ('Someday', 'The Strokes'),\n",
              " ('Creep', 'Radiohead'),\n",
              " ('Arabella', 'Arctic Monkeys'),\n",
              " ('You Only Live Once', 'The Strokes'),\n",
              " ('Mardy Bum', 'Arctic Monkeys'),\n",
              " ('Machu Picchu', 'The Strokes'),\n",
              " ('OBLIVIUS', 'The Strokes'),\n",
              " ('One For The Road', 'Arctic Monkeys'),\n",
              " (\"Why'd You Only Call Me When You're High?\", 'Arctic Monkeys'),\n",
              " (\"Baby I'm Yours\", 'Arctic Monkeys'),\n",
              " ('Idioteque', 'Radiohead'),\n",
              " ('Karma Police', 'Radiohead'),\n",
              " ('No. 1 Party Anthem', 'Arctic Monkeys'),\n",
              " ('High And Dry', 'Radiohead'),\n",
              " ('No Surprises', 'Radiohead'),\n",
              " ('Mad Sounds', 'Arctic Monkeys'),\n",
              " ('When The Sun Goes Down', 'Arctic Monkeys'),\n",
              " ('Fake Plastic Trees', 'Radiohead'),\n",
              " ('Fireside', 'Arctic Monkeys'),\n",
              " ('Paranoid Android', 'Radiohead'),\n",
              " ('Love is a Laserquest', 'Arctic Monkeys'),\n",
              " ('No Buses', 'Arctic Monkeys'),\n",
              " ('Reptilia', 'The Strokes'),\n",
              " ('Knee Socks', 'Arctic Monkeys'),\n",
              " ('Snap Out Of It', 'Arctic Monkeys'),\n",
              " ('Under Cover of Darkness', 'The Strokes'),\n",
              " ('I Want It All', 'Arctic Monkeys'),\n",
              " ('12:51', 'The Strokes'),\n",
              " ('Daydreaming', 'Radiohead'),\n",
              " ('What Ever Happened?', 'The Strokes'),\n",
              " ('Threat of Joy', 'The Strokes'),\n",
              " ('Hard To Explain', 'The Strokes'),\n",
              " ('Creep - Acoustic', 'Radiohead'),\n",
              " ('Stop The World I Wanna Get Off With You', 'Arctic Monkeys'),\n",
              " ('Piledriver Waltz', 'Arctic Monkeys'),\n",
              " ('Codex', 'Radiohead'),\n",
              " ('House Of Cards', 'Radiohead')]"
            ]
          },
          "metadata": {},
          "execution_count": 383
        }
      ]
    }
  ],
  "metadata": {
    "colab": {
      "provenance": [],
      "collapsed_sections": [
        "hcUVG_Udq31M",
        "auraNBJSq7zD",
        "hH6TfYU4e1Es",
        "coXUgxGA1EsS",
        "VtZKtYgjWA23",
        "DOV1T4TIXv7n",
        "KVnXEjV6wpPF"
      ]
    },
    "kernelspec": {
      "display_name": "Python 3",
      "name": "python3"
    },
    "language_info": {
      "name": "python"
    }
  },
  "nbformat": 4,
  "nbformat_minor": 0
}